{
 "cells": [
  {
   "cell_type": "markdown",
   "id": "bafaffce",
   "metadata": {
    "papermill": {
     "duration": 0.020266,
     "end_time": "2022-01-22T19:13:14.276225",
     "exception": false,
     "start_time": "2022-01-22T19:13:14.255959",
     "status": "completed"
    },
    "tags": []
   },
   "source": [
    "# WaveNet\n",
    "\n",
    "[paper] \\\n",
    "https://arxiv.org/pdf/1609.03499.pdf \\\n",
    "The WaveNet proposed by Aaron van den Oord in 2016 autoregressively generates audio. Its novelty comes from convolutional architecture to train on temporal data.\n",
    "\n",
    "[implementation] \\\n",
    "https://github.com/vincentherrmann/pytorch-wavenet/blob/master/audio_data.py \\\n",
    "_(Implementation details are heavily inspired by the above github repo)_"
   ]
  },
  {
   "cell_type": "code",
   "execution_count": 1,
   "id": "c47708ce",
   "metadata": {
    "execution": {
     "iopub.execute_input": "2022-01-22T19:13:14.327366Z",
     "iopub.status.busy": "2022-01-22T19:13:14.326618Z",
     "iopub.status.idle": "2022-01-22T19:13:17.711026Z",
     "shell.execute_reply": "2022-01-22T19:13:17.711508Z",
     "shell.execute_reply.started": "2022-01-22T16:09:45.448891Z"
    },
    "papermill": {
     "duration": 3.416185,
     "end_time": "2022-01-22T19:13:17.711851",
     "exception": false,
     "start_time": "2022-01-22T19:13:14.295666",
     "status": "completed"
    },
    "tags": []
   },
   "outputs": [],
   "source": [
    "# import\n",
    "\n",
    "import os\n",
    "import bisect\n",
    "import torch\n",
    "import torch.nn as nn\n",
    "import torch.nn.functional as F\n",
    "import torch.optim as optim\n",
    "import numpy as np\n",
    "import librosa\n",
    "import matplotlib.pyplot as plt\n",
    "\n",
    "from torch.utils.data import DataLoader, Dataset\n",
    "from tqdm.notebook import tqdm\n",
    "from scipy.io.wavfile import write"
   ]
  },
  {
   "cell_type": "markdown",
   "id": "bc25b4cc",
   "metadata": {
    "papermill": {
     "duration": 0.019237,
     "end_time": "2022-01-22T19:13:17.750542",
     "exception": false,
     "start_time": "2022-01-22T19:13:17.731305",
     "status": "completed"
    },
    "tags": []
   },
   "source": [
    "## Preprocess\n",
    "* quantization ($\\mu$-law companding transformation)\n",
    "* ~~normalization~~"
   ]
  },
  {
   "cell_type": "markdown",
   "id": "4ed51f44",
   "metadata": {
    "papermill": {
     "duration": 0.018625,
     "end_time": "2022-01-22T19:13:17.788356",
     "exception": false,
     "start_time": "2022-01-22T19:13:17.769731",
     "status": "completed"
    },
    "tags": []
   },
   "source": [
    "### $\\mu$-law companding transformation\n",
    "\n",
    "$$f(x_t) = sign(x_t) {{\\ln (1 + \\mu |x_t|)}\\over{\\ln (1 + \\mu)}}, \\quad -1 \\leq x \\leq 1$$\n",
    "$$f^{-1}(y_t) = sign(y_t) {{(1 + \\mu)^{|y_t|} - 1}\\over{\\mu}}, \\quad -1 \\leq y \\leq 1$$\n",
    "$\\mu$-law companding transformation function and its inverse function. This allows to perform tractable classificaiton task"
   ]
  },
  {
   "cell_type": "code",
   "execution_count": 2,
   "id": "f0dffff5",
   "metadata": {
    "execution": {
     "iopub.execute_input": "2022-01-22T19:13:17.834357Z",
     "iopub.status.busy": "2022-01-22T19:13:17.833428Z",
     "iopub.status.idle": "2022-01-22T19:13:17.835401Z",
     "shell.execute_reply": "2022-01-22T19:13:17.835830Z",
     "shell.execute_reply.started": "2022-01-22T16:09:45.45718Z"
    },
    "papermill": {
     "duration": 0.028692,
     "end_time": "2022-01-22T19:13:17.835964",
     "exception": false,
     "start_time": "2022-01-22T19:13:17.807272",
     "status": "completed"
    },
    "tags": []
   },
   "outputs": [],
   "source": [
    "# 16 bit: −32,768 to 32,767.\n",
    "\n",
    "\n",
    "def mu_law_companding_transformation(x, mu=255):\n",
    "    return np.sign(x) * (np.log(1 + mu * np.abs(x)) / np.log(1 + mu))\n",
    "\n",
    "\n",
    "def inverse_mu_law_companding_transformation(y, mu=255):\n",
    "    return np.sign(y) * (((1 + mu) ** np.abs(y) - 1) / mu)\n",
    "\n",
    "# quantize to 8bit\n",
    "def quantize(wav, bit):\n",
    "    wav = mu_law_companding_transformation(wav, 2**bit - 1)\n",
    "    return ((wav + 1) * 2**(bit - 1)).astype(int)\n",
    "\n",
    "# recover to 16bit\n",
    "def inv_quantize(wav, bit):\n",
    "    wav = (wav / 2**(bit - 1) - 1).astype(float)\n",
    "    return inverse_mu_law_companding_transformation(wav, bit**2 - 1)"
   ]
  },
  {
   "cell_type": "code",
   "execution_count": 3,
   "id": "3e55cbc0",
   "metadata": {
    "execution": {
     "iopub.execute_input": "2022-01-22T19:13:17.880240Z",
     "iopub.status.busy": "2022-01-22T19:13:17.879612Z",
     "iopub.status.idle": "2022-01-22T19:13:19.145907Z",
     "shell.execute_reply": "2022-01-22T19:13:19.145318Z",
     "shell.execute_reply.started": "2022-01-22T16:09:45.469204Z"
    },
    "papermill": {
     "duration": 1.29073,
     "end_time": "2022-01-22T19:13:19.146045",
     "exception": false,
     "start_time": "2022-01-22T19:13:17.855315",
     "status": "completed"
    },
    "tags": []
   },
   "outputs": [
    {
     "name": "stdout",
     "output_type": "stream",
     "text": [
      "11025\n"
     ]
    },
    {
     "data": {
      "text/plain": [
       "[<matplotlib.lines.Line2D at 0x7f5a35fd7490>]"
      ]
     },
     "execution_count": 3,
     "metadata": {},
     "output_type": "execute_result"
    },
    {
     "data": {
      "image/png": "[encoded data removed]",
      "text/plain": [
       "<Figure size 432x288 with 3 Axes>"
      ]
     },
     "metadata": {
      "needs_background": "light"
     },
     "output_type": "display_data"
    }
   ],
   "source": [
    "wav, sr = librosa.load(\"../input/freesound-audio-ds-project/ProcessedAudio/baby cry/1.wav\",sr=11025)\n",
    "print(sr)\n",
    "quantized_wav = quantize(wav, 8)\n",
    "recovered_wav = inv_quantize(quantized_wav, 8)\n",
    "\n",
    "fig, ax = plt.subplots(3, 1)\n",
    "ax[0].set_title(\"original wave (16 bit)\")\n",
    "ax[0].plot(wav * 32_767)\n",
    "ax[1].set_title(\"quantized wave (8 bit)\")\n",
    "ax[1].plot(quantized_wav)\n",
    "ax[2].set_title(\"recovered wave (16 bit)\")\n",
    "ax[2].plot(recovered_wav * 32_767)"
   ]
  },
  {
   "cell_type": "markdown",
   "id": "5257892c",
   "metadata": {
    "papermill": {
     "duration": 0.020428,
     "end_time": "2022-01-22T19:13:19.187548",
     "exception": false,
     "start_time": "2022-01-22T19:13:19.167120",
     "status": "completed"
    },
    "tags": []
   },
   "source": [
    "## Data\n",
    "\n",
    "The notebook is currently trained on audio-cats-and-dogs but will be trained on VCTK in the end. The below is the list of dataset tried with the notebook.\n",
    "* ~~audio-mnist~~\n",
    "* audio-cats-and-dogs\n",
    "\n",
    "_[Jan 20, 2022] Changed dataset to audio-cats-and-dogs from audio-mnist as the training on audio-mnist results in generating signals with no sound. I posit the reason to be the long tail and head with no sound for each data._\n",
    "\n",
    "### Preparing data for training\n",
    "Format input(src) and label(tgt) in the following way.\n",
    "\n",
    "<img src=\"https://i.ibb.co/Yp2KG8B/src-tgt-drawio.png\" width=\"600\"/>\n",
    "\n",
    "One-hot encoding is applied to the src. Thus, the shape of src is [N, C, L] and label is [N, L]."
   ]
  },
  {
   "cell_type": "code",
   "execution_count": 4,
   "id": "5150059b",
   "metadata": {
    "execution": {
     "iopub.execute_input": "2022-01-22T19:13:19.235242Z",
     "iopub.status.busy": "2022-01-22T19:13:19.234652Z",
     "iopub.status.idle": "2022-01-22T19:13:19.300537Z",
     "shell.execute_reply": "2022-01-22T19:13:19.300060Z",
     "shell.execute_reply.started": "2022-01-22T16:09:45.97903Z"
    },
    "papermill": {
     "duration": 0.092713,
     "end_time": "2022-01-22T19:13:19.300702",
     "exception": false,
     "start_time": "2022-01-22T19:13:19.207989",
     "status": "completed"
    },
    "tags": []
   },
   "outputs": [],
   "source": [
    "# recursively locate all the wav files\n",
    "\n",
    "def get_files(dir_):\n",
    "    def _get_files(fps, dir_):\n",
    "        _, ds, fs = next(os.walk(dir_))\n",
    "        for f in fs:\n",
    "            if f.split('.')[-1] == 'wav':\n",
    "                fps.append(os.path.join(dir_, f))\n",
    "        for d in ds:\n",
    "            _get_files(fps, os.path.join(dir_, d))\n",
    "            \n",
    "    files = []\n",
    "    _get_files(files, dir_)\n",
    "    return files\n",
    "\n",
    "files = get_files(\"../input/freesound-audio-ds-project/ProcessedAudio/baby cry\")"
   ]
  },
  {
   "cell_type": "code",
   "execution_count": 5,
   "id": "7efc5b02",
   "metadata": {
    "execution": {
     "iopub.execute_input": "2022-01-22T19:13:19.349347Z",
     "iopub.status.busy": "2022-01-22T19:13:19.348527Z",
     "iopub.status.idle": "2022-01-22T19:13:19.720082Z",
     "shell.execute_reply": "2022-01-22T19:13:19.720494Z",
     "shell.execute_reply.started": "2022-01-22T16:09:46.362514Z"
    },
    "papermill": {
     "duration": 0.398864,
     "end_time": "2022-01-22T19:13:19.720715",
     "exception": false,
     "start_time": "2022-01-22T19:13:19.321851",
     "status": "completed"
    },
    "tags": []
   },
   "outputs": [
    {
     "data": {
      "application/vnd.jupyter.widget-view+json": {
       "model_id": "7324480e72b74097a823578d805a40d1",
       "version_major": 2,
       "version_minor": 0
      },
      "text/plain": [
       "  0%|          | 0/1 [00:00<?, ?it/s]"
      ]
     },
     "metadata": {},
     "output_type": "display_data"
    }
   ],
   "source": [
    "# create dataset in ndarray format\n",
    "# preprocess applied accordingly\n",
    "\n",
    "def create_dataset(dataset_path, files, sr=11025):\n",
    "    dataset = []\n",
    "    for f in tqdm(files):\n",
    "        wav, _ = librosa.load(f, sr=sr)\n",
    "#         wav = librosa.util.normalize(wav)\n",
    "        quantized_wav = quantize(wav, 8)    # 8 bit\n",
    "        quantized_wav = np.clip(quantized_wav, 0, 2**8 - 1)\n",
    "        dataset.append(quantized_wav)\n",
    "    np.savez(dataset_path, *dataset)\n",
    "    \n",
    "create_dataset(\"dataset\", files[:1])    # TODO: files[x: y] -> files"
   ]
  },
  {
   "cell_type": "code",
   "execution_count": 6,
   "id": "fb8a3a1d",
   "metadata": {
    "execution": {
     "iopub.execute_input": "2022-01-22T19:13:19.775834Z",
     "iopub.status.busy": "2022-01-22T19:13:19.775090Z",
     "iopub.status.idle": "2022-01-22T19:13:19.777899Z",
     "shell.execute_reply": "2022-01-22T19:13:19.777430Z",
     "shell.execute_reply.started": "2022-01-22T16:09:46.770821Z"
    },
    "papermill": {
     "duration": 0.03564,
     "end_time": "2022-01-22T19:13:19.778013",
     "exception": false,
     "start_time": "2022-01-22T19:13:19.742373",
     "status": "completed"
    },
    "tags": []
   },
   "outputs": [],
   "source": [
    "class MNISTAudio(Dataset):\n",
    "    def __init__(\n",
    "        self, \n",
    "        path=\"dataset.npz\", \n",
    "        src_len=1024+64, \n",
    "        tgt_len=64, \n",
    "        num_class=256\n",
    "    ):\n",
    "        self.path = path\n",
    "        self.src_len = src_len\n",
    "        self.tgt_len = tgt_len\n",
    "        self.num_class = num_class\n",
    "        \n",
    "        self.dataset_index = self.index_dataset()\n",
    "        \n",
    "    def index_dataset(self):\n",
    "        # locate starting index of audio\n",
    "        dataset_index = [0]\n",
    "        dataset = np.load(self.path, mmap_mode='r')\n",
    "        for i in range(len(dataset)):\n",
    "            dataset_index.append(dataset_index[-1] \n",
    "                                 + dataset['arr_' + str(i)].shape[0])\n",
    "        return dataset_index\n",
    "    \n",
    "    def __getitem__(self, idx):\n",
    "        d_idx = bisect.bisect_right(self.dataset_index, idx)\n",
    "        dataset = np.load(self.path, mmap_mode='r')\n",
    "        \n",
    "        if idx + self.src_len + 1 <= self.dataset_index[d_idx]:\n",
    "            start_pos = idx - self.dataset_index[d_idx - 1]\n",
    "            end_pos = start_pos + self.src_len + 1\n",
    "            data = dataset['arr_' + str(d_idx - 1)][start_pos: end_pos]\n",
    "        else:\n",
    "            start_pos = idx - self.dataset_index[d_idx - 1]\n",
    "            end_pos = idx + self.src_len + 1 - self.dataset_index[d_idx]\n",
    "            data = np.concatenate((dataset['arr_' + str(d_idx - 1)][start_pos: ], \n",
    "                                   dataset['arr_' + str(d_idx)][: end_pos]))\n",
    "            \n",
    "        src = torch.tensor(data[: self.src_len])\n",
    "        src = F.one_hot(src, self.num_class).type(torch.float).transpose(0, 1)\n",
    "        tgt = torch.tensor(data[-self.tgt_len:])\n",
    "        \n",
    "        return {\"src\": src, \"tgt\": tgt}\n",
    "        \n",
    "    def __len__(self):\n",
    "        return self.dataset_index[-1] - self.src_len\n",
    "    \n"
   ]
  },
  {
   "cell_type": "code",
   "execution_count": 7,
   "id": "7789afd6",
   "metadata": {
    "execution": {
     "iopub.execute_input": "2022-01-22T19:13:19.823803Z",
     "iopub.status.busy": "2022-01-22T19:13:19.822975Z",
     "iopub.status.idle": "2022-01-22T19:13:19.824751Z",
     "shell.execute_reply": "2022-01-22T19:13:19.825188Z",
     "shell.execute_reply.started": "2022-01-22T16:09:46.786505Z"
    },
    "papermill": {
     "duration": 0.026359,
     "end_time": "2022-01-22T19:13:19.825320",
     "exception": false,
     "start_time": "2022-01-22T19:13:19.798961",
     "status": "completed"
    },
    "tags": []
   },
   "outputs": [],
   "source": [
    "# dataset2 = MNISTAudio(\"dataset.npz\", 64, 32, 256)\n",
    "# sum((dataset[0]['src'] == dataset2[0]['src']))\n",
    "# # index = torch.tensor([[1, 2, 3]])/"
   ]
  },
  {
   "cell_type": "code",
   "execution_count": 8,
   "id": "a50dda03",
   "metadata": {
    "execution": {
     "iopub.execute_input": "2022-01-22T19:13:19.873728Z",
     "iopub.status.busy": "2022-01-22T19:13:19.872048Z",
     "iopub.status.idle": "2022-01-22T19:13:19.874323Z",
     "shell.execute_reply": "2022-01-22T19:13:19.874748Z",
     "shell.execute_reply.started": "2022-01-22T16:09:46.79705Z"
    },
    "papermill": {
     "duration": 0.028671,
     "end_time": "2022-01-22T19:13:19.874885",
     "exception": false,
     "start_time": "2022-01-22T19:13:19.846214",
     "status": "completed"
    },
    "tags": []
   },
   "outputs": [],
   "source": [
    "\n",
    "# print(dataset.dataset_index)\n",
    "# print(len(dataset.dataset_index))\n",
    "## check with float value if aligned correctly\n",
    "# print(dataset[0])\n",
    "# print(dataset.dataset['arr_0'][: 20])\n",
    "# print(dataset[18282])\n",
    "# print(dataset.dataset['arr_1'][: 20])\n",
    "# print(dataset[18272])\n",
    "# print(dataset[18272]['src'][:, 0])\n",
    "# print(dataset[18272]['src'].size())\n",
    "# print(np.concatenate((dataset.dataset['arr_0'][-10: ], dataset.dataset['arr_1'][: 10])))\n",
    "\n",
    "# for i in np.linspace(0, 1468083, 1000):\n",
    "#     i = int(i)\n",
    "#     if dataset[i]['src'].size()[-1] != 64:\n",
    "#         print(\"error\")\n",
    "#         print(dataset[i]['src'].size())\n",
    "#         print(dataset[i]['tgt'].size())\n",
    "#         print(i)\n",
    "#         break\n",
    "\n",
    "# dataloader = DataLoader(dataset, batch_size=2)\n",
    "# batch = next(iter(dataloader))\n",
    "# batch['src'].size()"
   ]
  },
  {
   "cell_type": "markdown",
   "id": "74a31f5a",
   "metadata": {
    "execution": {
     "iopub.execute_input": "2022-01-18T06:57:15.695632Z",
     "iopub.status.busy": "2022-01-18T06:57:15.695337Z",
     "iopub.status.idle": "2022-01-18T06:57:15.70077Z",
     "shell.execute_reply": "2022-01-18T06:57:15.699818Z",
     "shell.execute_reply.started": "2022-01-18T06:57:15.695602Z"
    },
    "papermill": {
     "duration": 0.020778,
     "end_time": "2022-01-22T19:13:19.916938",
     "exception": false,
     "start_time": "2022-01-22T19:13:19.896160",
     "status": "completed"
    },
    "tags": []
   },
   "source": [
    "## Model"
   ]
  },
  {
   "cell_type": "markdown",
   "id": "7dbb8362",
   "metadata": {
    "papermill": {
     "duration": 0.020731,
     "end_time": "2022-01-22T19:13:19.958915",
     "exception": false,
     "start_time": "2022-01-22T19:13:19.938184",
     "status": "completed"
    },
    "tags": []
   },
   "source": [
    "### Dilated Causal Convolution\n",
    "<img src=\"https://production-media.paperswithcode.com/methods/Screen_Shot_2020-05-24_at_12.11.35_AM_RLzUMeS.png\" width=\"400\"/>\n",
    "\n",
    "\n",
    "\n",
    "[link] https://github.com/vdumoulin/conv_arithmetic/blob/master/README.md\n",
    "\n",
    "[link2] https://discuss.pytorch.org/t/causal-convolution/3456/4\n"
   ]
  },
  {
   "cell_type": "code",
   "execution_count": 9,
   "id": "682f2d1a",
   "metadata": {
    "execution": {
     "iopub.execute_input": "2022-01-22T19:13:20.010306Z",
     "iopub.status.busy": "2022-01-22T19:13:20.009451Z",
     "iopub.status.idle": "2022-01-22T19:13:20.011213Z",
     "shell.execute_reply": "2022-01-22T19:13:20.011666Z",
     "shell.execute_reply.started": "2022-01-22T16:09:46.806756Z"
    },
    "papermill": {
     "duration": 0.030452,
     "end_time": "2022-01-22T19:13:20.011795",
     "exception": false,
     "start_time": "2022-01-22T19:13:19.981343",
     "status": "completed"
    },
    "tags": []
   },
   "outputs": [],
   "source": [
    "# dilated causal convolution\n",
    "\n",
    "class CausalConv1d(nn.Module):\n",
    "    def __init__(self, \n",
    "                 in_channels, \n",
    "                 out_channels, \n",
    "                 kernel_size, \n",
    "                 dilation=1, \n",
    "                 **kwargs):\n",
    "        super(CausalConv1d, self).__init__()\n",
    "        self.padding = (kernel_size - 1) * dilation\n",
    "        self.conv = nn.Conv1d(in_channels, \n",
    "                              out_channels, \n",
    "                              kernel_size, \n",
    "                              padding=self.padding, \n",
    "                              dilation=dilation, \n",
    "                              bias=False, \n",
    "                              **kwargs)\n",
    "    \n",
    "    def forward(self, input_):\n",
    "        return self.conv(input_)[:, :, :-self.padding] if self.padding else self.conv(input_)\n",
    "\n",
    "\n",
    "# cc = CausalConv1d(1, 1, 2, dilation=2, bias=False)\n",
    "# x = torch.arange(1, 11, dtype=torch.float).view(2, 1, 5)\n",
    "# x[:, :, [1, 3]] = 0.0\n",
    "# print(x[0])\n",
    "# cc(x[:1])\n"
   ]
  },
  {
   "cell_type": "markdown",
   "id": "99260ed2",
   "metadata": {
    "papermill": {
     "duration": 0.020544,
     "end_time": "2022-01-22T19:13:20.053228",
     "exception": false,
     "start_time": "2022-01-22T19:13:20.032684",
     "status": "completed"
    },
    "tags": []
   },
   "source": [
    "### Gated Activation Units\n",
    "\n",
    "$$z = \\tanh (W_{f, k} * x) \\odot \\sigma (W_{g, k} * x)$$"
   ]
  },
  {
   "cell_type": "code",
   "execution_count": 10,
   "id": "48370537",
   "metadata": {
    "execution": {
     "iopub.execute_input": "2022-01-22T19:13:20.101748Z",
     "iopub.status.busy": "2022-01-22T19:13:20.101008Z",
     "iopub.status.idle": "2022-01-22T19:13:20.103988Z",
     "shell.execute_reply": "2022-01-22T19:13:20.103494Z",
     "shell.execute_reply.started": "2022-01-22T16:09:46.821038Z"
    },
    "papermill": {
     "duration": 0.029851,
     "end_time": "2022-01-22T19:13:20.104115",
     "exception": false,
     "start_time": "2022-01-22T19:13:20.074264",
     "status": "completed"
    },
    "tags": []
   },
   "outputs": [],
   "source": [
    "# gated activation units\n",
    "class GatedActivationUnit(nn.Module):\n",
    "    def __init__(self):\n",
    "        super(GatedActivationUnit, self).__init__()\n",
    "    \n",
    "    def forward(self, input_):\n",
    "        return torch.tanh(input_) * torch.sigmoid(input_)\n",
    "\n",
    "\n",
    "# actv = GatedActivationUnit()\n",
    "# actv(torch.ones(1))\n"
   ]
  },
  {
   "cell_type": "markdown",
   "id": "7d761fc7",
   "metadata": {
    "papermill": {
     "duration": 0.022703,
     "end_time": "2022-01-22T19:13:20.149231",
     "exception": false,
     "start_time": "2022-01-22T19:13:20.126528",
     "status": "completed"
    },
    "tags": []
   },
   "source": [
    "### WaveNet Model\n",
    "\n",
    "\n",
    "<img src=\"https://nvidia.github.io/OpenSeq2Seq/html/_images/wavenet.png\" width=400>\n",
    "\n",
    "_make sure to show dimension_"
   ]
  },
  {
   "cell_type": "code",
   "execution_count": 11,
   "id": "0760f945",
   "metadata": {
    "execution": {
     "iopub.execute_input": "2022-01-22T19:13:20.205929Z",
     "iopub.status.busy": "2022-01-22T19:13:20.204955Z",
     "iopub.status.idle": "2022-01-22T19:13:20.206760Z",
     "shell.execute_reply": "2022-01-22T19:13:20.207263Z",
     "shell.execute_reply.started": "2022-01-22T16:09:46.830455Z"
    },
    "papermill": {
     "duration": 0.035561,
     "end_time": "2022-01-22T19:13:20.207401",
     "exception": false,
     "start_time": "2022-01-22T19:13:20.171840",
     "status": "completed"
    },
    "tags": []
   },
   "outputs": [],
   "source": [
    "class WaveNet(nn.Module):\n",
    "    def __init__(\n",
    "        self,\n",
    "        num_block=4,\n",
    "        num_layer=10,\n",
    "        class_dim=256,\n",
    "        residual_dim=32,\n",
    "        dilation_dim=32,\n",
    "        skip_dim=256,\n",
    "        kernel_size=2,\n",
    "        bias=False\n",
    "    ):\n",
    "        super(WaveNet, self).__init__()\n",
    "        self.start_conv = nn.Conv1d(in_channels=class_dim, \n",
    "                                    out_channels=residual_dim, \n",
    "                                    kernel_size=1, \n",
    "                                    bias=bias)\n",
    "        \n",
    "        self.stack = nn.ModuleList()\n",
    "        for b in range(num_block):\n",
    "            dilation = 1\n",
    "            for k in range(num_layer):\n",
    "                \n",
    "                layer = nn.Sequential(\n",
    "                    CausalConv1d(in_channels=residual_dim,\n",
    "                                 out_channels=dilation_dim, \n",
    "                                 kernel_size=kernel_size,\n",
    "                                 dilation=dilation),\n",
    "                    GatedActivationUnit(),\n",
    "                    nn.Conv1d(in_channels=dilation_dim, \n",
    "                              out_channels=residual_dim, \n",
    "                              kernel_size=1, \n",
    "                              bias=bias)\n",
    "                )\n",
    "                \n",
    "                self.stack.append(layer)\n",
    "                dilation *= 2\n",
    "        \n",
    "        self.end_conv = nn.Sequential(\n",
    "            nn.ReLU(), \n",
    "            nn.Conv1d(in_channels=residual_dim, \n",
    "                      out_channels=skip_dim, \n",
    "                      kernel_size=1, \n",
    "                      bias=bias),\n",
    "            nn.ReLU(),\n",
    "            nn.Conv1d(in_channels=skip_dim, \n",
    "                      out_channels=class_dim, \n",
    "                      kernel_size=1, \n",
    "                      bias=bias)\n",
    "        )\n",
    "        \n",
    "        \n",
    "    def forward(self, input_):\n",
    "        residual = self.start_conv(input_)\n",
    "        skips = torch.zeros_like(residual)\n",
    "        \n",
    "        for layer in self.stack:\n",
    "            skip = layer(residual)\n",
    "            residual = residual + skip\n",
    "            skips = skips + skip\n",
    "        logit = self.end_conv(skips)\n",
    "        return logit\n",
    "\n",
    "    \n",
    "        "
   ]
  },
  {
   "cell_type": "code",
   "execution_count": 12,
   "id": "acce124f",
   "metadata": {
    "execution": {
     "iopub.execute_input": "2022-01-22T19:13:20.254623Z",
     "iopub.status.busy": "2022-01-22T19:13:20.253995Z",
     "iopub.status.idle": "2022-01-22T19:13:20.256435Z",
     "shell.execute_reply": "2022-01-22T19:13:20.256846Z",
     "shell.execute_reply.started": "2022-01-22T16:09:46.845349Z"
    },
    "papermill": {
     "duration": 0.028169,
     "end_time": "2022-01-22T19:13:20.256980",
     "exception": false,
     "start_time": "2022-01-22T19:13:20.228811",
     "status": "completed"
    },
    "tags": []
   },
   "outputs": [],
   "source": [
    "# n, c, l = 1, 2, 3\n",
    "# x = torch.zeros(n, c, l)\n",
    "# # x = \n",
    "# # output...\n",
    "# # softmax\n",
    "# # sample from the index\n",
    "# n, c, l\n",
    "# logit = torch.randn(32, 256, 10)\n",
    "# i = 0\n",
    "# dist = F.softmax(logit[:, :, i], 1)\n",
    "# print(dist.size())\n",
    "# torch.multinomial(dist, num_samples=1).size()\n",
    "\n",
    "# # ..."
   ]
  },
  {
   "cell_type": "code",
   "execution_count": 13,
   "id": "ea940512",
   "metadata": {
    "execution": {
     "iopub.execute_input": "2022-01-22T19:13:20.303801Z",
     "iopub.status.busy": "2022-01-22T19:13:20.303007Z",
     "iopub.status.idle": "2022-01-22T19:13:20.305512Z",
     "shell.execute_reply": "2022-01-22T19:13:20.305101Z",
     "shell.execute_reply.started": "2022-01-22T16:09:46.855905Z"
    },
    "papermill": {
     "duration": 0.027451,
     "end_time": "2022-01-22T19:13:20.305649",
     "exception": false,
     "start_time": "2022-01-22T19:13:20.278198",
     "status": "completed"
    },
    "tags": []
   },
   "outputs": [],
   "source": [
    "# x = torch.zeros(1, 256, 100).scatter_(1, torch.tensor(quantized_wav[:100]).view(1, 1, -1), 1.0)\n",
    "# print(x.size())\n",
    "# model = WaveNet()\n",
    "# model(x).size()"
   ]
  },
  {
   "cell_type": "code",
   "execution_count": 14,
   "id": "cea732f6",
   "metadata": {
    "execution": {
     "iopub.execute_input": "2022-01-22T19:13:20.352872Z",
     "iopub.status.busy": "2022-01-22T19:13:20.351989Z",
     "iopub.status.idle": "2022-01-22T19:13:20.353844Z",
     "shell.execute_reply": "2022-01-22T19:13:20.354304Z",
     "shell.execute_reply.started": "2022-01-22T16:09:46.865418Z"
    },
    "papermill": {
     "duration": 0.027633,
     "end_time": "2022-01-22T19:13:20.354437",
     "exception": false,
     "start_time": "2022-01-22T19:13:20.326804",
     "status": "completed"
    },
    "tags": []
   },
   "outputs": [],
   "source": [
    "# k = torch.zeros(1, 1, 6)\n",
    "# k[0, 0, [1]] = 1\n",
    "# print(k)\n",
    "# c = CausalConv1d(1, 1, 3, 2, bias=False)\n",
    "# c(k)"
   ]
  },
  {
   "cell_type": "markdown",
   "id": "92410d7a",
   "metadata": {
    "papermill": {
     "duration": 0.022258,
     "end_time": "2022-01-22T19:13:20.398910",
     "exception": false,
     "start_time": "2022-01-22T19:13:20.376652",
     "status": "completed"
    },
    "tags": []
   },
   "source": [
    "## Train\n",
    "\n",
    "Classification Task: Train with softmax loss"
   ]
  },
  {
   "cell_type": "code",
   "execution_count": 15,
   "id": "a94eea0d",
   "metadata": {
    "execution": {
     "iopub.execute_input": "2022-01-22T19:13:20.451840Z",
     "iopub.status.busy": "2022-01-22T19:13:20.450960Z",
     "iopub.status.idle": "2022-01-22T19:13:20.452712Z",
     "shell.execute_reply": "2022-01-22T19:13:20.453205Z",
     "shell.execute_reply.started": "2022-01-22T16:09:46.873404Z"
    },
    "papermill": {
     "duration": 0.032626,
     "end_time": "2022-01-22T19:13:20.453334",
     "exception": false,
     "start_time": "2022-01-22T19:13:20.420708",
     "status": "completed"
    },
    "tags": []
   },
   "outputs": [],
   "source": [
    "\n",
    "def save_ckpt(path, model, optimizer, misc):\n",
    "    model.eval()\n",
    "    model.cpu()\n",
    "    torch.save({\n",
    "        'last_epoch': misc['epoch'],\n",
    "        'model_state_dict': model.state_dict(),\n",
    "        'optimizer_state_dict': optimizer.state_dict(),\n",
    "        'losses': misc['losses'],\n",
    "    }, path)\n",
    "    \n",
    "\n",
    "def generate_audio(model, audio_num, audio_len, num_class, receptive_field=1024):\n",
    "    model.eval()\n",
    "    n, c, l = audio_num, num_class, audio_len\n",
    "    device = next(model.parameters()).device\n",
    "    input_ = torch.zeros(n, c, 1, device=device)   # [N, C, L + 1]\n",
    "    \n",
    "    for i in tqdm(range(l)):\n",
    "        pred = model(input_[:, :, -receptive_field: ])\n",
    "        dist = F.softmax(pred[:, :, -1], dim=1)\n",
    "        sample = torch.multinomial(dist, num_samples=1)\n",
    "        one_hot = F.one_hot(sample.view(n, 1), num_class).type(torch.float).permute(0, 2, 1)\n",
    "        input_ = torch.cat((input_, one_hot), dim=-1)\n",
    "#         input_ = torch.cat((input_, torch.zeros(n, c, 1, device=device).scatter_(1, sample.view(n, 1, 1), 1.0)), -1)\n",
    "        \n",
    "    audio = input_.argmax(1).to('cpu').numpy()\n",
    "    audio = inv_quantize(audio, 8)\n",
    "    return audio\n",
    "\n",
    "# audio = generate_audio(model, 1, 100, 256)\n",
    "# plt.plot(audio[0])"
   ]
  },
  {
   "cell_type": "code",
   "execution_count": 16,
   "id": "df69d557",
   "metadata": {
    "execution": {
     "iopub.execute_input": "2022-01-22T19:13:20.513753Z",
     "iopub.status.busy": "2022-01-22T19:13:20.512814Z",
     "iopub.status.idle": "2022-01-22T21:20:43.584740Z",
     "shell.execute_reply": "2022-01-22T21:20:43.584268Z",
     "shell.execute_reply.started": "2022-01-22T16:44:49.539985Z"
    },
    "papermill": {
     "duration": 7643.110504,
     "end_time": "2022-01-22T21:20:43.584880",
     "exception": false,
     "start_time": "2022-01-22T19:13:20.474376",
     "status": "completed"
    },
    "tags": []
   },
   "outputs": [
    {
     "data": {
      "application/vnd.jupyter.widget-view+json": {
       "model_id": "ad294e92c1b64fdcbb413525a721976e",
       "version_major": 2,
       "version_minor": 0
      },
      "text/plain": [
       "  0%|          | 0/15000 [00:00<?, ?it/s]"
      ]
     },
     "metadata": {},
     "output_type": "display_data"
    },
    {
     "name": "stdout",
     "output_type": "stream",
     "text": [
      "\n",
      "\n",
      "\n",
      "\n",
      "\n",
      "\n",
      "\n",
      "\n",
      "\n",
      "\n",
      "\n",
      "\n",
      "\n",
      "\n",
      "\n",
      "\n",
      "\n",
      "\n",
      "\n",
      "\n"
     ]
    }
   ],
   "source": [
    "from dataclasses import dataclass\n",
    "\n",
    "@dataclass\n",
    "class Option:\n",
    "    DEVICE: str = 'cuda'\n",
    "    epoch: int = 20\n",
    "    lr: float = 1e-3\n",
    "    batch_sz: int = 128\n",
    "    num_class: int = 256\n",
    "    clip: float = 1.0\n",
    "    max_itr: int = 1_000\n",
    "    \n",
    "    src_len:int = 1024 + 64\n",
    "    tgt_len:int = 64\n",
    "    \n",
    "    num_block: int = 4\n",
    "    num_layer: int = 10\n",
    "    residual_dim: int = 32\n",
    "    dilation_dim: int = 128\n",
    "    skip_dim: int = 256\n",
    "    kernel_size: int = 2\n",
    "    bias: bool = False\n",
    "    \n",
    "    loss_update_itr: int = 100\n",
    "    ckpt_path: str = \"\"\n",
    "    dataset_path: str = \"dataset.npz\"\n",
    "    ckpt_dir: str = \"ckpt\"\n",
    "\n",
    "opt = Option()\n",
    "os.makedirs(opt.ckpt_dir, exist_ok=True)\n",
    "\n",
    "# prepare dataset and dataloader\n",
    "dataset = MNISTAudio(opt.dataset_path, opt.src_len, opt.tgt_len, opt.num_class)    # TODO: give parameter accordingly\n",
    "dataloader = DataLoader(dataset, \n",
    "                        batch_size=opt.batch_sz, \n",
    "                        shuffle=True, \n",
    "                        num_workers=2)\n",
    "pbar = tqdm(range(opt.epoch * min(opt.max_itr, len(dataloader))))\n",
    "\n",
    "# prepare model\n",
    "model = WaveNet(    \n",
    "    num_block = opt.num_block,\n",
    "    num_layer = opt.num_layer,   # 10,\n",
    "    class_dim = opt.num_class,\n",
    "    residual_dim = opt.residual_dim,\n",
    "    dilation_dim = opt.dilation_dim,\n",
    "    skip_dim = opt.skip_dim,\n",
    "    kernel_size = opt.kernel_size,\n",
    "    bias=opt.bias\n",
    ")\n",
    "\n",
    "# prepare optimizer\n",
    "loss_fn = nn.CrossEntropyLoss()\n",
    "optimizer = optim.Adam(model.parameters(), lr=opt.lr)\n",
    "\n",
    "losses = []\n",
    "last_epoch = 0\n",
    "\n",
    "# load from checkpoint\n",
    "if opt.ckpt_path:\n",
    "    ckpt = torch.load(opt.ckpt_path)\n",
    "    model.load_state_dict(ckpt['model_state_dict'])\n",
    "    optimizer.load_state_dict(ckpt['optimizer_state_dict'])\n",
    "    losses = ckpt['losses']\n",
    "    last_epoch = ckpt['last_epoch']\n",
    "\n",
    "    \n",
    "# train\n",
    "\n",
    "for e in range(last_epoch, opt.epoch):\n",
    "    model.train()          # save_ckpt set model mode to eval and cpu\n",
    "    model.to(opt.DEVICE)\n",
    "    accum_loss = 0\n",
    "    \n",
    "    for idx, batch in enumerate(dataloader):\n",
    "        src, tgt = batch['src'].to(opt.DEVICE), batch['tgt'].to(opt.DEVICE)\n",
    "        pred = model(src)[:, :, -opt.tgt_len: ]\n",
    "        loss = loss_fn(pred, tgt)\n",
    "\n",
    "        optimizer.zero_grad()\n",
    "        loss.backward()\n",
    "        torch.nn.utils.clip_grad_norm_(model.parameters(), opt.clip)\n",
    "        optimizer.step()\n",
    "\n",
    "        accum_loss += loss.item()\n",
    "        pbar.update()\n",
    "        \n",
    "        if idx == opt.max_itr:\n",
    "            break\n",
    "\n",
    "        if (idx + 1) % opt.loss_update_itr == 0:\n",
    "            avg_loss = accum_loss / opt.loss_update_itr\n",
    "            losses.append(avg_loss)\n",
    "            accum_loss = 0\n",
    "            pbar.set_description(f\"Epoch {round(e + idx / min(opt.max_itr, len(dataloader)), 2)} | Loss: {round(avg_loss, 5)}\")\n",
    "    print()    # new line for pbar\n",
    "    # save checkpoint\n",
    "    save_ckpt(os.path.join(opt.ckpt_dir, str(e) + '.pt'), model, optimizer, {\"epoch\": e + 1, \"losses\": losses})"
   ]
  },
  {
   "cell_type": "code",
   "execution_count": 17,
   "id": "db6ea20d",
   "metadata": {
    "execution": {
     "iopub.execute_input": "2022-01-22T21:20:43.654083Z",
     "iopub.status.busy": "2022-01-22T21:20:43.642740Z",
     "iopub.status.idle": "2022-01-22T21:20:43.823133Z",
     "shell.execute_reply": "2022-01-22T21:20:43.823671Z",
     "shell.execute_reply.started": "2022-01-22T17:00:07.489416Z"
    },
    "papermill": {
     "duration": 0.212505,
     "end_time": "2022-01-22T21:20:43.823819",
     "exception": false,
     "start_time": "2022-01-22T21:20:43.611314",
     "status": "completed"
    },
    "tags": []
   },
   "outputs": [
    {
     "data": {
      "text/plain": [
       "[<matplotlib.lines.Line2D at 0x7f5a20311910>]"
      ]
     },
     "execution_count": 17,
     "metadata": {},
     "output_type": "execute_result"
    },
    {
     "data": {
      "image/png": "[encoded data removed]",
      "text/plain": [
       "<Figure size 432x288 with 1 Axes>"
      ]
     },
     "metadata": {
      "needs_background": "light"
     },
     "output_type": "display_data"
    }
   ],
   "source": [
    "plt.title(\"loss\")\n",
    "plt.plot(losses)"
   ]
  },
  {
   "cell_type": "code",
   "execution_count": 18,
   "id": "cca1b9df",
   "metadata": {
    "execution": {
     "iopub.execute_input": "2022-01-22T21:20:43.883868Z",
     "iopub.status.busy": "2022-01-22T21:20:43.883027Z",
     "iopub.status.idle": "2022-01-22T21:33:29.412339Z",
     "shell.execute_reply": "2022-01-22T21:33:29.412733Z",
     "shell.execute_reply.started": "2022-01-22T17:00:07.725006Z"
    },
    "papermill": {
     "duration": 765.561819,
     "end_time": "2022-01-22T21:33:29.412892",
     "exception": false,
     "start_time": "2022-01-22T21:20:43.851073",
     "status": "completed"
    },
    "tags": []
   },
   "outputs": [
    {
     "data": {
      "application/vnd.jupyter.widget-view+json": {
       "model_id": "cb738401c8ee4c46971c55154bc94459",
       "version_major": 2,
       "version_minor": 0
      },
      "text/plain": [
       "  0%|          | 0/40000 [00:00<?, ?it/s]"
      ]
     },
     "metadata": {},
     "output_type": "display_data"
    },
    {
     "data": {
      "image/png": "[encoded data removed]",
      "text/plain": [
       "<Figure size 432x288 with 3 Axes>"
      ]
     },
     "metadata": {
      "needs_background": "light"
     },
     "output_type": "display_data"
    }
   ],
   "source": [
    "model.to(opt.DEVICE)\n",
    "audio = generate_audio(model, 16, 40_000, 256)\n",
    "fig, ax = plt.subplots(3, 1)\n",
    "\n",
    "for i in range(3):\n",
    "    ax[i].plot(audio[i])\n",
    "    write(f'output_{i}.wav', 11025, audio[i])"
   ]
  },
  {
   "cell_type": "code",
   "execution_count": 19,
   "id": "b64c54f2",
   "metadata": {
    "execution": {
     "iopub.execute_input": "2022-01-22T21:33:29.490062Z",
     "iopub.status.busy": "2022-01-22T21:33:29.489157Z",
     "iopub.status.idle": "2022-01-22T21:33:29.806122Z",
     "shell.execute_reply": "2022-01-22T21:33:29.806665Z",
     "shell.execute_reply.started": "2022-01-22T16:41:42.98006Z"
    },
    "papermill": {
     "duration": 0.355976,
     "end_time": "2022-01-22T21:33:29.806859",
     "exception": false,
     "start_time": "2022-01-22T21:33:29.450883",
     "status": "completed"
    },
    "tags": []
   },
   "outputs": [
    {
     "data": {
      "image/png": "[encoded data removed]",
      "text/plain": [
       "<Figure size 432x288 with 1 Axes>"
      ]
     },
     "metadata": {
      "needs_background": "light"
     },
     "output_type": "display_data"
    }
   ],
   "source": [
    "plt.plot(inv_quantize(np.load(\"dataset.npz\")[\"arr_0\"], 8))\n",
    "write('audio_0.wav', 11025, inv_quantize(np.load(\"dataset.npz\")[\"arr_0\"], 8))\n"
   ]
  },
  {
   "cell_type": "code",
   "execution_count": 20,
   "id": "0ec576db",
   "metadata": {
    "execution": {
     "iopub.execute_input": "2022-01-22T21:33:29.878934Z",
     "iopub.status.busy": "2022-01-22T21:33:29.878298Z",
     "iopub.status.idle": "2022-01-22T21:33:30.558605Z",
     "shell.execute_reply": "2022-01-22T21:33:30.559953Z",
     "shell.execute_reply.started": "2022-01-22T16:09:50.033782Z"
    },
    "papermill": {
     "duration": 0.719244,
     "end_time": "2022-01-22T21:33:30.560176",
     "exception": false,
     "start_time": "2022-01-22T21:33:29.840932",
     "status": "completed"
    },
    "tags": []
   },
   "outputs": [
    {
     "data": {
      "text/plain": [
       "[<matplotlib.lines.Line2D at 0x7f5a202c5c50>]"
      ]
     },
     "execution_count": 20,
     "metadata": {},
     "output_type": "execute_result"
    },
    {
     "data": {
      "image/png": "[encoded data removed]",
      "text/plain": [
       "<Figure size 432x288 with 1 Axes>"
      ]
     },
     "metadata": {
      "needs_background": "light"
     },
     "output_type": "display_data"
    }
   ],
   "source": [
    "wav, _ = librosa.load(files[0], sr=11025)\n",
    "plt.plot(wav)\n",
    "# write('audio_0.wav', 11025, wav)"
   ]
  },
  {
   "cell_type": "code",
   "execution_count": null,
   "id": "b94201b3",
   "metadata": {
    "papermill": {
     "duration": 0.051044,
     "end_time": "2022-01-22T21:33:30.674782",
     "exception": false,
     "start_time": "2022-01-22T21:33:30.623738",
     "status": "completed"
    },
    "tags": []
   },
   "outputs": [],
   "source": []
  },
  {
   "cell_type": "code",
   "execution_count": null,
   "id": "560a5efe",
   "metadata": {
    "papermill": {
     "duration": 0.053306,
     "end_time": "2022-01-22T21:33:30.783482",
     "exception": false,
     "start_time": "2022-01-22T21:33:30.730176",
     "status": "completed"
    },
    "tags": []
   },
   "outputs": [],
   "source": []
  }
 ],
 "metadata": {
  "kernelspec": {
   "display_name": "Python 3",
   "language": "python",
   "name": "python3"
  },
  "language_info": {
   "codemirror_mode": {
    "name": "ipython",
    "version": 3
   },
   "file_extension": ".py",
   "mimetype": "text/x-python",
   "name": "python",
   "nbconvert_exporter": "python",
   "pygments_lexer": "ipython3",
   "version": "3.7.12"
  },
  "papermill": {
   "default_parameters": {},
   "duration": 8427.269039,
   "end_time": "2022-01-22T21:33:32.968428",
   "environment_variables": {},
   "exception": null,
   "input_path": "__notebook__.ipynb",
   "output_path": "__notebook__.ipynb",
   "parameters": {},
   "start_time": "2022-01-22T19:13:05.699389",
   "version": "2.3.3"
  },
  "widgets": {
   "application/vnd.jupyter.widget-state+json": {
    "state": {
     "0182bb10f4d84c7e9d4bbf43da2bbd2e": {
      "model_module": "@jupyter-widgets/base",
      "model_module_version": "1.2.0",
      "model_name": "LayoutModel",
      "state": {
       "_model_module": "@jupyter-widgets/base",
       "_model_module_version": "1.2.0",
       "_model_name": "LayoutModel",
       "_view_count": null,
       "_view_module": "@jupyter-widgets/base",
       "_view_module_version": "1.2.0",
       "_view_name": "LayoutView",
       "align_content": null,
       "align_items": null,
       "align_self": null,
       "border": null,
       "bottom": null,
       "display": null,
       "flex": null,
       "flex_flow": null,
       "grid_area": null,
       "grid_auto_columns": null,
       "grid_auto_flow": null,
       "grid_auto_rows": null,
       "grid_column": null,
       "grid_gap": null,
       "grid_row": null,
       "grid_template_areas": null,
       "grid_template_columns": null,
       "grid_template_rows": null,
       "height": null,
       "justify_content": null,
       "justify_items": null,
       "left": null,
       "margin": null,
       "max_height": null,
       "max_width": null,
       "min_height": null,
       "min_width": null,
       "object_fit": null,
       "object_position": null,
       "order": null,
       "overflow": null,
       "overflow_x": null,
       "overflow_y": null,
       "padding": null,
       "right": null,
       "top": null,
       "visibility": null,
       "width": null
      }
     },
     "0450ae7ac6014173b948c2f17df2849a": {
      "model_module": "@jupyter-widgets/base",
      "model_module_version": "1.2.0",
      "model_name": "LayoutModel",
      "state": {
       "_model_module": "@jupyter-widgets/base",
       "_model_module_version": "1.2.0",
       "_model_name": "LayoutModel",
       "_view_count": null,
       "_view_module": "@jupyter-widgets/base",
       "_view_module_version": "1.2.0",
       "_view_name": "LayoutView",
       "align_content": null,
       "align_items": null,
       "align_self": null,
       "border": null,
       "bottom": null,
       "display": null,
       "flex": null,
       "flex_flow": null,
       "grid_area": null,
       "grid_auto_columns": null,
       "grid_auto_flow": null,
       "grid_auto_rows": null,
       "grid_column": null,
       "grid_gap": null,
       "grid_row": null,
       "grid_template_areas": null,
       "grid_template_columns": null,
       "grid_template_rows": null,
       "height": null,
       "justify_content": null,
       "justify_items": null,
       "left": null,
       "margin": null,
       "max_height": null,
       "max_width": null,
       "min_height": null,
       "min_width": null,
       "object_fit": null,
       "object_position": null,
       "order": null,
       "overflow": null,
       "overflow_x": null,
       "overflow_y": null,
       "padding": null,
       "right": null,
       "top": null,
       "visibility": null,
       "width": null
      }
     },
     "0868846315904a209c2a1b905eb911a2": {
      "model_module": "@jupyter-widgets/base",
      "model_module_version": "1.2.0",
      "model_name": "LayoutModel",
      "state": {
       "_model_module": "@jupyter-widgets/base",
       "_model_module_version": "1.2.0",
       "_model_name": "LayoutModel",
       "_view_count": null,
       "_view_module": "@jupyter-widgets/base",
       "_view_module_version": "1.2.0",
       "_view_name": "LayoutView",
       "align_content": null,
       "align_items": null,
       "align_self": null,
       "border": null,
       "bottom": null,
       "display": null,
       "flex": null,
       "flex_flow": null,
       "grid_area": null,
       "grid_auto_columns": null,
       "grid_auto_flow": null,
       "grid_auto_rows": null,
       "grid_column": null,
       "grid_gap": null,
       "grid_row": null,
       "grid_template_areas": null,
       "grid_template_columns": null,
       "grid_template_rows": null,
       "height": null,
       "justify_content": null,
       "justify_items": null,
       "left": null,
       "margin": null,
       "max_height": null,
       "max_width": null,
       "min_height": null,
       "min_width": null,
       "object_fit": null,
       "object_position": null,
       "order": null,
       "overflow": null,
       "overflow_x": null,
       "overflow_y": null,
       "padding": null,
       "right": null,
       "top": null,
       "visibility": null,
       "width": null
      }
     },
     "0cbf3727c63949b59906145371b8911c": {
      "model_module": "@jupyter-widgets/base",
      "model_module_version": "1.2.0",
      "model_name": "LayoutModel",
      "state": {
       "_model_module": "@jupyter-widgets/base",
       "_model_module_version": "1.2.0",
       "_model_name": "LayoutModel",
       "_view_count": null,
       "_view_module": "@jupyter-widgets/base",
       "_view_module_version": "1.2.0",
       "_view_name": "LayoutView",
       "align_content": null,
       "align_items": null,
       "align_self": null,
       "border": null,
       "bottom": null,
       "display": null,
       "flex": null,
       "flex_flow": null,
       "grid_area": null,
       "grid_auto_columns": null,
       "grid_auto_flow": null,
       "grid_auto_rows": null,
       "grid_column": null,
       "grid_gap": null,
       "grid_row": null,
       "grid_template_areas": null,
       "grid_template_columns": null,
       "grid_template_rows": null,
       "height": null,
       "justify_content": null,
       "justify_items": null,
       "left": null,
       "margin": null,
       "max_height": null,
       "max_width": null,
       "min_height": null,
       "min_width": null,
       "object_fit": null,
       "object_position": null,
       "order": null,
       "overflow": null,
       "overflow_x": null,
       "overflow_y": null,
       "padding": null,
       "right": null,
       "top": null,
       "visibility": null,
       "width": null
      }
     },
     "1040c03ff3024349b40ad28aa2014002": {
      "model_module": "@jupyter-widgets/controls",
      "model_module_version": "1.5.0",
      "model_name": "FloatProgressModel",
      "state": {
       "_dom_classes": [],
       "_model_module": "@jupyter-widgets/controls",
       "_model_module_version": "1.5.0",
       "_model_name": "FloatProgressModel",
       "_view_count": null,
       "_view_module": "@jupyter-widgets/controls",
       "_view_module_version": "1.5.0",
       "_view_name": "ProgressView",
       "bar_style": "success",
       "description": "",
       "description_tooltip": null,
       "layout": "IPY_MODEL_5df68a08149149f6b8bd9f1ae3491cda",
       "max": 1.0,
       "min": 0.0,
       "orientation": "horizontal",
       "style": "IPY_MODEL_d51399449d474279a67ddd23579f46f9",
       "value": 1.0
      }
     },
     "1305d4c814214afe8ef2a480c37d10f3": {
      "model_module": "@jupyter-widgets/controls",
      "model_module_version": "1.5.0",
      "model_name": "DescriptionStyleModel",
      "state": {
       "_model_module": "@jupyter-widgets/controls",
       "_model_module_version": "1.5.0",
       "_model_name": "DescriptionStyleModel",
       "_view_count": null,
       "_view_module": "@jupyter-widgets/base",
       "_view_module_version": "1.2.0",
       "_view_name": "StyleView",
       "description_width": ""
      }
     },
     "1ef5e495d059477a8ebf9311b4cfd48b": {
      "model_module": "@jupyter-widgets/controls",
      "model_module_version": "1.5.0",
      "model_name": "ProgressStyleModel",
      "state": {
       "_model_module": "@jupyter-widgets/controls",
       "_model_module_version": "1.5.0",
       "_model_name": "ProgressStyleModel",
       "_view_count": null,
       "_view_module": "@jupyter-widgets/base",
       "_view_module_version": "1.2.0",
       "_view_name": "StyleView",
       "bar_color": null,
       "description_width": ""
      }
     },
     "3125dbaac4d44545a84730058b862f94": {
      "model_module": "@jupyter-widgets/controls",
      "model_module_version": "1.5.0",
      "model_name": "DescriptionStyleModel",
      "state": {
       "_model_module": "@jupyter-widgets/controls",
       "_model_module_version": "1.5.0",
       "_model_name": "DescriptionStyleModel",
       "_view_count": null,
       "_view_module": "@jupyter-widgets/base",
       "_view_module_version": "1.2.0",
       "_view_name": "StyleView",
       "description_width": ""
      }
     },
     "3535f34ddbc348ea8b26f2ca063b7a71": {
      "model_module": "@jupyter-widgets/base",
      "model_module_version": "1.2.0",
      "model_name": "LayoutModel",
      "state": {
       "_model_module": "@jupyter-widgets/base",
       "_model_module_version": "1.2.0",
       "_model_name": "LayoutModel",
       "_view_count": null,
       "_view_module": "@jupyter-widgets/base",
       "_view_module_version": "1.2.0",
       "_view_name": "LayoutView",
       "align_content": null,
       "align_items": null,
       "align_self": null,
       "border": null,
       "bottom": null,
       "display": null,
       "flex": null,
       "flex_flow": null,
       "grid_area": null,
       "grid_auto_columns": null,
       "grid_auto_flow": null,
       "grid_auto_rows": null,
       "grid_column": null,
       "grid_gap": null,
       "grid_row": null,
       "grid_template_areas": null,
       "grid_template_columns": null,
       "grid_template_rows": null,
       "height": null,
       "justify_content": null,
       "justify_items": null,
       "left": null,
       "margin": null,
       "max_height": null,
       "max_width": null,
       "min_height": null,
       "min_width": null,
       "object_fit": null,
       "object_position": null,
       "order": null,
       "overflow": null,
       "overflow_x": null,
       "overflow_y": null,
       "padding": null,
       "right": null,
       "top": null,
       "visibility": null,
       "width": null
      }
     },
     "369cb1a60ff2439497b2edde0973d8c5": {
      "model_module": "@jupyter-widgets/base",
      "model_module_version": "1.2.0",
      "model_name": "LayoutModel",
      "state": {
       "_model_module": "@jupyter-widgets/base",
       "_model_module_version": "1.2.0",
       "_model_name": "LayoutModel",
       "_view_count": null,
       "_view_module": "@jupyter-widgets/base",
       "_view_module_version": "1.2.0",
       "_view_name": "LayoutView",
       "align_content": null,
       "align_items": null,
       "align_self": null,
       "border": null,
       "bottom": null,
       "display": null,
       "flex": null,
       "flex_flow": null,
       "grid_area": null,
       "grid_auto_columns": null,
       "grid_auto_flow": null,
       "grid_auto_rows": null,
       "grid_column": null,
       "grid_gap": null,
       "grid_row": null,
       "grid_template_areas": null,
       "grid_template_columns": null,
       "grid_template_rows": null,
       "height": null,
       "justify_content": null,
       "justify_items": null,
       "left": null,
       "margin": null,
       "max_height": null,
       "max_width": null,
       "min_height": null,
       "min_width": null,
       "object_fit": null,
       "object_position": null,
       "order": null,
       "overflow": null,
       "overflow_x": null,
       "overflow_y": null,
       "padding": null,
       "right": null,
       "top": null,
       "visibility": null,
       "width": null
      }
     },
     "3f80de1112df47419963b681f7af2438": {
      "model_module": "@jupyter-widgets/controls",
      "model_module_version": "1.5.0",
      "model_name": "HTMLModel",
      "state": {
       "_dom_classes": [],
       "_model_module": "@jupyter-widgets/controls",
       "_model_module_version": "1.5.0",
       "_model_name": "HTMLModel",
       "_view_count": null,
       "_view_module": "@jupyter-widgets/controls",
       "_view_module_version": "1.5.0",
       "_view_name": "HTMLView",
       "description": "",
       "description_tooltip": null,
       "layout": "IPY_MODEL_0182bb10f4d84c7e9d4bbf43da2bbd2e",
       "placeholder": "​",
       "style": "IPY_MODEL_63d1d5ff55234d9d8975a2c43e0709f1",
       "value": "100%"
      }
     },
     "5df68a08149149f6b8bd9f1ae3491cda": {
      "model_module": "@jupyter-widgets/base",
      "model_module_version": "1.2.0",
      "model_name": "LayoutModel",
      "state": {
       "_model_module": "@jupyter-widgets/base",
       "_model_module_version": "1.2.0",
       "_model_name": "LayoutModel",
       "_view_count": null,
       "_view_module": "@jupyter-widgets/base",
       "_view_module_version": "1.2.0",
       "_view_name": "LayoutView",
       "align_content": null,
       "align_items": null,
       "align_self": null,
       "border": null,
       "bottom": null,
       "display": null,
       "flex": null,
       "flex_flow": null,
       "grid_area": null,
       "grid_auto_columns": null,
       "grid_auto_flow": null,
       "grid_auto_rows": null,
       "grid_column": null,
       "grid_gap": null,
       "grid_row": null,
       "grid_template_areas": null,
       "grid_template_columns": null,
       "grid_template_rows": null,
       "height": null,
       "justify_content": null,
       "justify_items": null,
       "left": null,
       "margin": null,
       "max_height": null,
       "max_width": null,
       "min_height": null,
       "min_width": null,
       "object_fit": null,
       "object_position": null,
       "order": null,
       "overflow": null,
       "overflow_x": null,
       "overflow_y": null,
       "padding": null,
       "right": null,
       "top": null,
       "visibility": null,
       "width": null
      }
     },
     "63d1d5ff55234d9d8975a2c43e0709f1": {
      "model_module": "@jupyter-widgets/controls",
      "model_module_version": "1.5.0",
      "model_name": "DescriptionStyleModel",
      "state": {
       "_model_module": "@jupyter-widgets/controls",
       "_model_module_version": "1.5.0",
       "_model_name": "DescriptionStyleModel",
       "_view_count": null,
       "_view_module": "@jupyter-widgets/base",
       "_view_module_version": "1.2.0",
       "_view_name": "StyleView",
       "description_width": ""
      }
     },
     "687a58145d174e25a77b97bb4f09bbc6": {
      "model_module": "@jupyter-widgets/base",
      "model_module_version": "1.2.0",
      "model_name": "LayoutModel",
      "state": {
       "_model_module": "@jupyter-widgets/base",
       "_model_module_version": "1.2.0",
       "_model_name": "LayoutModel",
       "_view_count": null,
       "_view_module": "@jupyter-widgets/base",
       "_view_module_version": "1.2.0",
       "_view_name": "LayoutView",
       "align_content": null,
       "align_items": null,
       "align_self": null,
       "border": null,
       "bottom": null,
       "display": null,
       "flex": null,
       "flex_flow": null,
       "grid_area": null,
       "grid_auto_columns": null,
       "grid_auto_flow": null,
       "grid_auto_rows": null,
       "grid_column": null,
       "grid_gap": null,
       "grid_row": null,
       "grid_template_areas": null,
       "grid_template_columns": null,
       "grid_template_rows": null,
       "height": null,
       "justify_content": null,
       "justify_items": null,
       "left": null,
       "margin": null,
       "max_height": null,
       "max_width": null,
       "min_height": null,
       "min_width": null,
       "object_fit": null,
       "object_position": null,
       "order": null,
       "overflow": null,
       "overflow_x": null,
       "overflow_y": null,
       "padding": null,
       "right": null,
       "top": null,
       "visibility": null,
       "width": null
      }
     },
     "692b0964cee045b0901230ee99c4cc79": {
      "model_module": "@jupyter-widgets/controls",
      "model_module_version": "1.5.0",
      "model_name": "HTMLModel",
      "state": {
       "_dom_classes": [],
       "_model_module": "@jupyter-widgets/controls",
       "_model_module_version": "1.5.0",
       "_model_name": "HTMLModel",
       "_view_count": null,
       "_view_module": "@jupyter-widgets/controls",
       "_view_module_version": "1.5.0",
       "_view_name": "HTMLView",
       "description": "",
       "description_tooltip": null,
       "layout": "IPY_MODEL_9d140f81d4c14f8abe484525fcdd1115",
       "placeholder": "​",
       "style": "IPY_MODEL_3125dbaac4d44545a84730058b862f94",
       "value": "Epoch 19.93 | Loss: 0.41914: 100%"
      }
     },
     "7324480e72b74097a823578d805a40d1": {
      "model_module": "@jupyter-widgets/controls",
      "model_module_version": "1.5.0",
      "model_name": "HBoxModel",
      "state": {
       "_dom_classes": [],
       "_model_module": "@jupyter-widgets/controls",
       "_model_module_version": "1.5.0",
       "_model_name": "HBoxModel",
       "_view_count": null,
       "_view_module": "@jupyter-widgets/controls",
       "_view_module_version": "1.5.0",
       "_view_name": "HBoxView",
       "box_style": "",
       "children": [
        "IPY_MODEL_c7fa4905d6d144309f9c106dbc3a2e01",
        "IPY_MODEL_1040c03ff3024349b40ad28aa2014002",
        "IPY_MODEL_c7299eed66aa40bc95b5a364c18ed40d"
       ],
       "layout": "IPY_MODEL_687a58145d174e25a77b97bb4f09bbc6"
      }
     },
     "88bd14900bc84d69a10b133c006bfdbb": {
      "model_module": "@jupyter-widgets/controls",
      "model_module_version": "1.5.0",
      "model_name": "HTMLModel",
      "state": {
       "_dom_classes": [],
       "_model_module": "@jupyter-widgets/controls",
       "_model_module_version": "1.5.0",
       "_model_name": "HTMLModel",
       "_view_count": null,
       "_view_module": "@jupyter-widgets/controls",
       "_view_module_version": "1.5.0",
       "_view_name": "HTMLView",
       "description": "",
       "description_tooltip": null,
       "layout": "IPY_MODEL_d2449cc7668d4c24a287178d810df7f0",
       "placeholder": "​",
       "style": "IPY_MODEL_d58520dfbce44c24b56fb4bbc0b59625",
       "value": " 15000/15000 [2:07:22&lt;00:00,  2.43it/s]"
      }
     },
     "8e09cb8fdbe14c75afed48649f5bfd2d": {
      "model_module": "@jupyter-widgets/controls",
      "model_module_version": "1.5.0",
      "model_name": "DescriptionStyleModel",
      "state": {
       "_model_module": "@jupyter-widgets/controls",
       "_model_module_version": "1.5.0",
       "_model_name": "DescriptionStyleModel",
       "_view_count": null,
       "_view_module": "@jupyter-widgets/base",
       "_view_module_version": "1.2.0",
       "_view_name": "StyleView",
       "description_width": ""
      }
     },
     "9522ff3d57284fc28e1706432ec28db8": {
      "model_module": "@jupyter-widgets/controls",
      "model_module_version": "1.5.0",
      "model_name": "ProgressStyleModel",
      "state": {
       "_model_module": "@jupyter-widgets/controls",
       "_model_module_version": "1.5.0",
       "_model_name": "ProgressStyleModel",
       "_view_count": null,
       "_view_module": "@jupyter-widgets/base",
       "_view_module_version": "1.2.0",
       "_view_name": "StyleView",
       "bar_color": null,
       "description_width": ""
      }
     },
     "9d140f81d4c14f8abe484525fcdd1115": {
      "model_module": "@jupyter-widgets/base",
      "model_module_version": "1.2.0",
      "model_name": "LayoutModel",
      "state": {
       "_model_module": "@jupyter-widgets/base",
       "_model_module_version": "1.2.0",
       "_model_name": "LayoutModel",
       "_view_count": null,
       "_view_module": "@jupyter-widgets/base",
       "_view_module_version": "1.2.0",
       "_view_name": "LayoutView",
       "align_content": null,
       "align_items": null,
       "align_self": null,
       "border": null,
       "bottom": null,
       "display": null,
       "flex": null,
       "flex_flow": null,
       "grid_area": null,
       "grid_auto_columns": null,
       "grid_auto_flow": null,
       "grid_auto_rows": null,
       "grid_column": null,
       "grid_gap": null,
       "grid_row": null,
       "grid_template_areas": null,
       "grid_template_columns": null,
       "grid_template_rows": null,
       "height": null,
       "justify_content": null,
       "justify_items": null,
       "left": null,
       "margin": null,
       "max_height": null,
       "max_width": null,
       "min_height": null,
       "min_width": null,
       "object_fit": null,
       "object_position": null,
       "order": null,
       "overflow": null,
       "overflow_x": null,
       "overflow_y": null,
       "padding": null,
       "right": null,
       "top": null,
       "visibility": null,
       "width": null
      }
     },
     "ad294e92c1b64fdcbb413525a721976e": {
      "model_module": "@jupyter-widgets/controls",
      "model_module_version": "1.5.0",
      "model_name": "HBoxModel",
      "state": {
       "_dom_classes": [],
       "_model_module": "@jupyter-widgets/controls",
       "_model_module_version": "1.5.0",
       "_model_name": "HBoxModel",
       "_view_count": null,
       "_view_module": "@jupyter-widgets/controls",
       "_view_module_version": "1.5.0",
       "_view_name": "HBoxView",
       "box_style": "",
       "children": [
        "IPY_MODEL_692b0964cee045b0901230ee99c4cc79",
        "IPY_MODEL_e97be5b8bd164220a22a037c5c8693b8",
        "IPY_MODEL_88bd14900bc84d69a10b133c006bfdbb"
       ],
       "layout": "IPY_MODEL_0868846315904a209c2a1b905eb911a2"
      }
     },
     "c5c105b0f62c441195e7f73e188bc2b6": {
      "model_module": "@jupyter-widgets/controls",
      "model_module_version": "1.5.0",
      "model_name": "FloatProgressModel",
      "state": {
       "_dom_classes": [],
       "_model_module": "@jupyter-widgets/controls",
       "_model_module_version": "1.5.0",
       "_model_name": "FloatProgressModel",
       "_view_count": null,
       "_view_module": "@jupyter-widgets/controls",
       "_view_module_version": "1.5.0",
       "_view_name": "ProgressView",
       "bar_style": "success",
       "description": "",
       "description_tooltip": null,
       "layout": "IPY_MODEL_3535f34ddbc348ea8b26f2ca063b7a71",
       "max": 40000.0,
       "min": 0.0,
       "orientation": "horizontal",
       "style": "IPY_MODEL_1ef5e495d059477a8ebf9311b4cfd48b",
       "value": 40000.0
      }
     },
     "c7299eed66aa40bc95b5a364c18ed40d": {
      "model_module": "@jupyter-widgets/controls",
      "model_module_version": "1.5.0",
      "model_name": "HTMLModel",
      "state": {
       "_dom_classes": [],
       "_model_module": "@jupyter-widgets/controls",
       "_model_module_version": "1.5.0",
       "_model_name": "HTMLModel",
       "_view_count": null,
       "_view_module": "@jupyter-widgets/controls",
       "_view_module_version": "1.5.0",
       "_view_name": "HTMLView",
       "description": "",
       "description_tooltip": null,
       "layout": "IPY_MODEL_cab21c274df84bffb75699b81087d2b2",
       "placeholder": "​",
       "style": "IPY_MODEL_d987d2657780441cbd27e464b38434aa",
       "value": " 1/1 [00:00&lt;00:00,  2.77it/s]"
      }
     },
     "c7fa4905d6d144309f9c106dbc3a2e01": {
      "model_module": "@jupyter-widgets/controls",
      "model_module_version": "1.5.0",
      "model_name": "HTMLModel",
      "state": {
       "_dom_classes": [],
       "_model_module": "@jupyter-widgets/controls",
       "_model_module_version": "1.5.0",
       "_model_name": "HTMLModel",
       "_view_count": null,
       "_view_module": "@jupyter-widgets/controls",
       "_view_module_version": "1.5.0",
       "_view_name": "HTMLView",
       "description": "",
       "description_tooltip": null,
       "layout": "IPY_MODEL_0cbf3727c63949b59906145371b8911c",
       "placeholder": "​",
       "style": "IPY_MODEL_8e09cb8fdbe14c75afed48649f5bfd2d",
       "value": "100%"
      }
     },
     "cab21c274df84bffb75699b81087d2b2": {
      "model_module": "@jupyter-widgets/base",
      "model_module_version": "1.2.0",
      "model_name": "LayoutModel",
      "state": {
       "_model_module": "@jupyter-widgets/base",
       "_model_module_version": "1.2.0",
       "_model_name": "LayoutModel",
       "_view_count": null,
       "_view_module": "@jupyter-widgets/base",
       "_view_module_version": "1.2.0",
       "_view_name": "LayoutView",
       "align_content": null,
       "align_items": null,
       "align_self": null,
       "border": null,
       "bottom": null,
       "display": null,
       "flex": null,
       "flex_flow": null,
       "grid_area": null,
       "grid_auto_columns": null,
       "grid_auto_flow": null,
       "grid_auto_rows": null,
       "grid_column": null,
       "grid_gap": null,
       "grid_row": null,
       "grid_template_areas": null,
       "grid_template_columns": null,
       "grid_template_rows": null,
       "height": null,
       "justify_content": null,
       "justify_items": null,
       "left": null,
       "margin": null,
       "max_height": null,
       "max_width": null,
       "min_height": null,
       "min_width": null,
       "object_fit": null,
       "object_position": null,
       "order": null,
       "overflow": null,
       "overflow_x": null,
       "overflow_y": null,
       "padding": null,
       "right": null,
       "top": null,
       "visibility": null,
       "width": null
      }
     },
     "cb3e3ae572c241e5a96c587714dee144": {
      "model_module": "@jupyter-widgets/base",
      "model_module_version": "1.2.0",
      "model_name": "LayoutModel",
      "state": {
       "_model_module": "@jupyter-widgets/base",
       "_model_module_version": "1.2.0",
       "_model_name": "LayoutModel",
       "_view_count": null,
       "_view_module": "@jupyter-widgets/base",
       "_view_module_version": "1.2.0",
       "_view_name": "LayoutView",
       "align_content": null,
       "align_items": null,
       "align_self": null,
       "border": null,
       "bottom": null,
       "display": null,
       "flex": null,
       "flex_flow": null,
       "grid_area": null,
       "grid_auto_columns": null,
       "grid_auto_flow": null,
       "grid_auto_rows": null,
       "grid_column": null,
       "grid_gap": null,
       "grid_row": null,
       "grid_template_areas": null,
       "grid_template_columns": null,
       "grid_template_rows": null,
       "height": null,
       "justify_content": null,
       "justify_items": null,
       "left": null,
       "margin": null,
       "max_height": null,
       "max_width": null,
       "min_height": null,
       "min_width": null,
       "object_fit": null,
       "object_position": null,
       "order": null,
       "overflow": null,
       "overflow_x": null,
       "overflow_y": null,
       "padding": null,
       "right": null,
       "top": null,
       "visibility": null,
       "width": null
      }
     },
     "cb738401c8ee4c46971c55154bc94459": {
      "model_module": "@jupyter-widgets/controls",
      "model_module_version": "1.5.0",
      "model_name": "HBoxModel",
      "state": {
       "_dom_classes": [],
       "_model_module": "@jupyter-widgets/controls",
       "_model_module_version": "1.5.0",
       "_model_name": "HBoxModel",
       "_view_count": null,
       "_view_module": "@jupyter-widgets/controls",
       "_view_module_version": "1.5.0",
       "_view_name": "HBoxView",
       "box_style": "",
       "children": [
        "IPY_MODEL_3f80de1112df47419963b681f7af2438",
        "IPY_MODEL_c5c105b0f62c441195e7f73e188bc2b6",
        "IPY_MODEL_d80c7919e08345cc85f45341a5238759"
       ],
       "layout": "IPY_MODEL_0450ae7ac6014173b948c2f17df2849a"
      }
     },
     "d2449cc7668d4c24a287178d810df7f0": {
      "model_module": "@jupyter-widgets/base",
      "model_module_version": "1.2.0",
      "model_name": "LayoutModel",
      "state": {
       "_model_module": "@jupyter-widgets/base",
       "_model_module_version": "1.2.0",
       "_model_name": "LayoutModel",
       "_view_count": null,
       "_view_module": "@jupyter-widgets/base",
       "_view_module_version": "1.2.0",
       "_view_name": "LayoutView",
       "align_content": null,
       "align_items": null,
       "align_self": null,
       "border": null,
       "bottom": null,
       "display": null,
       "flex": null,
       "flex_flow": null,
       "grid_area": null,
       "grid_auto_columns": null,
       "grid_auto_flow": null,
       "grid_auto_rows": null,
       "grid_column": null,
       "grid_gap": null,
       "grid_row": null,
       "grid_template_areas": null,
       "grid_template_columns": null,
       "grid_template_rows": null,
       "height": null,
       "justify_content": null,
       "justify_items": null,
       "left": null,
       "margin": null,
       "max_height": null,
       "max_width": null,
       "min_height": null,
       "min_width": null,
       "object_fit": null,
       "object_position": null,
       "order": null,
       "overflow": null,
       "overflow_x": null,
       "overflow_y": null,
       "padding": null,
       "right": null,
       "top": null,
       "visibility": null,
       "width": null
      }
     },
     "d51399449d474279a67ddd23579f46f9": {
      "model_module": "@jupyter-widgets/controls",
      "model_module_version": "1.5.0",
      "model_name": "ProgressStyleModel",
      "state": {
       "_model_module": "@jupyter-widgets/controls",
       "_model_module_version": "1.5.0",
       "_model_name": "ProgressStyleModel",
       "_view_count": null,
       "_view_module": "@jupyter-widgets/base",
       "_view_module_version": "1.2.0",
       "_view_name": "StyleView",
       "bar_color": null,
       "description_width": ""
      }
     },
     "d58520dfbce44c24b56fb4bbc0b59625": {
      "model_module": "@jupyter-widgets/controls",
      "model_module_version": "1.5.0",
      "model_name": "DescriptionStyleModel",
      "state": {
       "_model_module": "@jupyter-widgets/controls",
       "_model_module_version": "1.5.0",
       "_model_name": "DescriptionStyleModel",
       "_view_count": null,
       "_view_module": "@jupyter-widgets/base",
       "_view_module_version": "1.2.0",
       "_view_name": "StyleView",
       "description_width": ""
      }
     },
     "d80c7919e08345cc85f45341a5238759": {
      "model_module": "@jupyter-widgets/controls",
      "model_module_version": "1.5.0",
      "model_name": "HTMLModel",
      "state": {
       "_dom_classes": [],
       "_model_module": "@jupyter-widgets/controls",
       "_model_module_version": "1.5.0",
       "_model_name": "HTMLModel",
       "_view_count": null,
       "_view_module": "@jupyter-widgets/controls",
       "_view_module_version": "1.5.0",
       "_view_name": "HTMLView",
       "description": "",
       "description_tooltip": null,
       "layout": "IPY_MODEL_369cb1a60ff2439497b2edde0973d8c5",
       "placeholder": "​",
       "style": "IPY_MODEL_1305d4c814214afe8ef2a480c37d10f3",
       "value": " 40000/40000 [12:45&lt;00:00, 45.76it/s]"
      }
     },
     "d987d2657780441cbd27e464b38434aa": {
      "model_module": "@jupyter-widgets/controls",
      "model_module_version": "1.5.0",
      "model_name": "DescriptionStyleModel",
      "state": {
       "_model_module": "@jupyter-widgets/controls",
       "_model_module_version": "1.5.0",
       "_model_name": "DescriptionStyleModel",
       "_view_count": null,
       "_view_module": "@jupyter-widgets/base",
       "_view_module_version": "1.2.0",
       "_view_name": "StyleView",
       "description_width": ""
      }
     },
     "e97be5b8bd164220a22a037c5c8693b8": {
      "model_module": "@jupyter-widgets/controls",
      "model_module_version": "1.5.0",
      "model_name": "FloatProgressModel",
      "state": {
       "_dom_classes": [],
       "_model_module": "@jupyter-widgets/controls",
       "_model_module_version": "1.5.0",
       "_model_name": "FloatProgressModel",
       "_view_count": null,
       "_view_module": "@jupyter-widgets/controls",
       "_view_module_version": "1.5.0",
       "_view_name": "ProgressView",
       "bar_style": "",
       "description": "",
       "description_tooltip": null,
       "layout": "IPY_MODEL_cb3e3ae572c241e5a96c587714dee144",
       "max": 15000.0,
       "min": 0.0,
       "orientation": "horizontal",
       "style": "IPY_MODEL_9522ff3d57284fc28e1706432ec28db8",
       "value": 15000.0
      }
     }
    },
    "version_major": 2,
    "version_minor": 0
   }
  }
 },
 "nbformat": 4,
 "nbformat_minor": 5
}
